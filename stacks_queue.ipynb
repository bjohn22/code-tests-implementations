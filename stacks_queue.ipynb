{
 "cells": [
  {
   "cell_type": "markdown",
   "metadata": {},
   "source": [
    "### Python Stack and Queue  \n",
    "https://realpython.com/queue-in-python/?utm_source=notification_summary&utm_medium=email&utm_campaign=2022-06-29  \n",
    "A queue is an abstract data type that represents a sequence of elements arranged according to a set of rules  "
   ]
  },
  {
   "cell_type": "markdown",
   "metadata": {},
   "source": [
    "## First-In, First-Out (FIFO)  \n",
    "- Elements are processed in order of arrival.  \n",
    "- new element is added to tail (*enqueue*), oldest (at the head position) exit (*dequeue*) from the opposite end.    "
   ]
  },
  {
   "cell_type": "markdown",
   "metadata": {},
   "source": [
    "## Last-In, First-Out (LIFO) or Stack    \n",
    "- Use case is in depth-first search algorithm.  \n",
    "    - Note: When you replace the stack, or LIFO queue, with a FIFO queue in the DFS algorithm and make a few minor tweaks, then you’ll get the breadth-first search (BFS) algorithm almost for free!   "
   ]
  },
  {
   "cell_type": "markdown",
   "metadata": {},
   "source": [
    "### Deque can be used to implement FIFO and LIFO queues. "
   ]
  },
  {
   "cell_type": "markdown",
   "metadata": {},
   "source": [
    "### Priority Queue: Sorted From High to Low  \n",
    "- each element must have an associated priority to compare against other elements.  \n",
    "- The queue will maintain a sorted order, letting new elements join where necessary while shuffling the existing elements around if needed.  \n",
    "- When two elements are of equal priority, they will follow their insertion order. \n",
    "\n",
    "- Note: Even though the priority queue is conceptually a sequence, its most efficient implementation builds on top of the heap data structure, which is a kind of binary tree. Therefore, the terms heap and priority queue are sometimes used interchangeably.\n"
   ]
  },
  {
   "cell_type": "code",
   "execution_count": 68,
   "metadata": {},
   "outputs": [],
   "source": [
    "import sys, os\n",
    "if os.path.abspath(\"..\") not in sys.path:\n",
    "    sys.path.insert(0, os.path.abspath(\"..\"))\n"
   ]
  },
  {
   "cell_type": "code",
   "execution_count": 73,
   "metadata": {},
   "outputs": [],
   "source": [
    "from queues import Queue"
   ]
  },
  {
   "cell_type": "code",
   "execution_count": 74,
   "metadata": {},
   "outputs": [
    {
     "data": {
      "text/plain": [
       "<queues.Queue at 0x7f7a01a29220>"
      ]
     },
     "execution_count": 74,
     "metadata": {},
     "output_type": "execute_result"
    }
   ],
   "source": [
    "fifo = Queue()\n",
    "fifo"
   ]
  },
  {
   "cell_type": "code",
   "execution_count": 75,
   "metadata": {},
   "outputs": [],
   "source": [
    "fifo.enqueue(\"1st\")\n",
    "fifo.enqueue(\"2nd\")\n",
    "fifo.enqueue(\"3rd\")\n",
    "fifo.enqueue(\"4th\")"
   ]
  },
  {
   "cell_type": "code",
   "execution_count": 76,
   "metadata": {},
   "outputs": [
    {
     "data": {
      "text/plain": [
       "'1st'"
      ]
     },
     "execution_count": 76,
     "metadata": {},
     "output_type": "execute_result"
    }
   ],
   "source": [
    "fifo.dequeue()"
   ]
  },
  {
   "cell_type": "code",
   "execution_count": 83,
   "metadata": {},
   "outputs": [],
   "source": [
    "from collections import deque"
   ]
  },
  {
   "cell_type": "code",
   "execution_count": 84,
   "metadata": {},
   "outputs": [],
   "source": [
    "class QueueNew:\n",
    "    \"\"\"\n",
    "    - make Queue iterable\n",
    "    - report its length\n",
    "    - optionally accept initial elements\n",
    "    Note: The asterisk operator (*) is used\n",
    "     to unpack all the values of an iterable that have not been assigned yet.\n",
    "     see https://geekflare.com/python-unpacking-operators/\n",
    "    \"\"\"\n",
    "    def __init__(self, *elements):\n",
    "        self._elements = deque(elements)\n",
    "\n",
    "    def __len__(self):\n",
    "        return len(self._elements)\n",
    "\n",
    "    def __iter__(self):\n",
    "        while len(self) > 0:\n",
    "            yield self.dequeue()\n",
    "\n",
    "\n",
    "    def enqueue(self, element):\n",
    "        \"\"\"Adds element to the tail end(right)\"\"\"\n",
    "        self._elements.append(element)\n",
    "\n",
    "    def dequeue(self):\n",
    "        \"\"\"removes element from the head position, left\"\"\"\n",
    "        return self._elements.popleft()"
   ]
  },
  {
   "cell_type": "code",
   "execution_count": 85,
   "metadata": {},
   "outputs": [],
   "source": [
    "q22 = ['hjk', 'gte', 'rted']"
   ]
  },
  {
   "cell_type": "code",
   "execution_count": 86,
   "metadata": {},
   "outputs": [],
   "source": [
    "fifo = QueueNew(*q22)"
   ]
  },
  {
   "cell_type": "code",
   "execution_count": 87,
   "metadata": {},
   "outputs": [
    {
     "data": {
      "text/plain": [
       "3"
      ]
     },
     "execution_count": 87,
     "metadata": {},
     "output_type": "execute_result"
    }
   ],
   "source": [
    "len(fifo)"
   ]
  },
  {
   "cell_type": "code",
   "execution_count": 90,
   "metadata": {},
   "outputs": [
    {
     "name": "stdout",
     "output_type": "stream",
     "text": [
      "hjk\n",
      "gte\n",
      "rted\n"
     ]
    }
   ],
   "source": [
    "for element in fifo:\n",
    "    print(element)"
   ]
  },
  {
   "cell_type": "markdown",
   "metadata": {},
   "source": [
    "## Building a Stack Data Type  \n",
    "- Since most of the implementation will remain the same, you can extend your Queue class using inheritance and override the .dequeue() method to remove elements from the top of the stack\n"
   ]
  },
  {
   "cell_type": "code",
   "execution_count": 94,
   "metadata": {},
   "outputs": [],
   "source": [
    "class Stack(QueueNew):\n",
    "    def dequeue(self):\n",
    "        return self._elements.pop()"
   ]
  },
  {
   "cell_type": "code",
   "execution_count": 97,
   "metadata": {},
   "outputs": [],
   "source": [
    "lifo = Stack(\"1st\", \"2nd\", \"3rd\")"
   ]
  },
  {
   "cell_type": "code",
   "execution_count": 98,
   "metadata": {},
   "outputs": [
    {
     "name": "stdout",
     "output_type": "stream",
     "text": [
      "3rd\n",
      "2nd\n",
      "1st\n"
     ]
    }
   ],
   "source": [
    "stack_list = []\n",
    "for element in lifo:\n",
    "    stack_list.append(element)\n",
    "    print(element)"
   ]
  },
  {
   "cell_type": "code",
   "execution_count": 99,
   "metadata": {},
   "outputs": [
    {
     "data": {
      "text/plain": [
       "['3rd', '2nd', '1st']"
      ]
     },
     "execution_count": 99,
     "metadata": {},
     "output_type": "execute_result"
    }
   ],
   "source": [
    "stack_list"
   ]
  },
  {
   "cell_type": "code",
   "execution_count": null,
   "metadata": {},
   "outputs": [],
   "source": []
  },
  {
   "cell_type": "code",
   "execution_count": null,
   "metadata": {},
   "outputs": [],
   "source": []
  },
  {
   "cell_type": "code",
   "execution_count": null,
   "metadata": {},
   "outputs": [],
   "source": []
  },
  {
   "cell_type": "code",
   "execution_count": null,
   "metadata": {},
   "outputs": [],
   "source": []
  },
  {
   "cell_type": "code",
   "execution_count": null,
   "metadata": {},
   "outputs": [],
   "source": []
  },
  {
   "cell_type": "code",
   "execution_count": null,
   "metadata": {},
   "outputs": [],
   "source": []
  }
 ],
 "metadata": {
  "kernelspec": {
   "display_name": "Python 3.8.10 ('ml_proj_venv': venv)",
   "language": "python",
   "name": "python3"
  },
  "language_info": {
   "codemirror_mode": {
    "name": "ipython",
    "version": 3
   },
   "file_extension": ".py",
   "mimetype": "text/x-python",
   "name": "python",
   "nbconvert_exporter": "python",
   "pygments_lexer": "ipython3",
   "version": "3.8.10"
  },
  "orig_nbformat": 4,
  "vscode": {
   "interpreter": {
    "hash": "ac9dcb3c12db45fce2c001c53649fd5a4182cb7dd9b5964ee54b4220dc25ed2e"
   }
  }
 },
 "nbformat": 4,
 "nbformat_minor": 2
}
