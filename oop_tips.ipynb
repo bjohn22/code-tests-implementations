{
 "cells": [
  {
   "cell_type": "markdown",
   "metadata": {},
   "source": [
    "### This notebook seeks to test and explain python OOP techniques"
   ]
  },
  {
   "cell_type": "markdown",
   "metadata": {},
   "source": [
    "## Instance, Class, and Static Methods  \n",
    "\n",
    "**Instance methods** (too much power) point to an instance of the class when the method is called.  \n",
    "- Main point is that:  \n",
    "    - They have access to attributes and other methods of the class so they modify the object's state. Using *self*   \n",
    "    - They also have access to the class itself through self.__class__ attribute so they can also modify class state.  \n",
    "\n",
    "**Class Methods** uses the *cls* parameter to point to the class, and not the object instance, when the method is called.  \n",
    "    - The ultimate reason why you can use class methods as constructors is that you don’t need an instance to call a class method.  \n",
    "    - Using @classmethod makes it possible to add as many explicit constructors as you need to a given class.  \n",
    "\n",
    "**Static Methods** static method can neither modify object state nor class state. Static methods are restricted in what data they can access - and they’re primarily a way to namespace your methods.  \n",
    "    - They work like regular functions but belong to the class’s (and every instance’s) namespace.\n"
   ]
  },
  {
   "cell_type": "code",
   "execution_count": null,
   "metadata": {},
   "outputs": [],
   "source": [
    "## Template\n",
    "class MyClass(object):\n",
    "    \"\"\"\n",
    "    Here is a template example for writing the method types \n",
    "    \"\"\"\n",
    "    def method(self):\n",
    "        return 'instance method called', self\n",
    "\n",
    "    @classmethod\n",
    "    def classmethod(cls):\n",
    "        return 'class method called', cls\n",
    "\n",
    "    @staticmethod\n",
    "    def staticmethod():\n",
    "        return 'static method called'\n"
   ]
  },
  {
   "cell_type": "code",
   "execution_count": 87,
   "metadata": {},
   "outputs": [],
   "source": [
    "### Test\n",
    "## Template\n",
    "class MyClass(object):\n",
    "    \"\"\"\n",
    "    Here is a template example for writing the method types \n",
    "    \"\"\"\n",
    "    class_var = 'OOP knowledge'\n",
    "    def method(self):\n",
    "        instance_lang = 'Python'\n",
    "        #print(f'I see {instance_lang} and class itself: {self.__class__}')\n",
    "        return 'instance method called', self\n",
    "\n",
    "    @classmethod\n",
    "    def classmethod(cls):\n",
    "        class_python_version_ = '3.8.10'\n",
    "        #print(f'I see {class_python_version_}, {cls.class_var} and class itself:{cls.__class__}')\n",
    "        return 'class method called', cls #.class_python_version_\n",
    "\n",
    "    @staticmethod\n",
    "    def staticmethod():\n",
    "        static_ = 'not connected'\n",
    "        #print(static_)\n",
    "        return 'static method called'\n",
    "\n",
    "    def __repr__(self):\n",
    "        method_ = f'I see {MyClass.method} and class itself: {self.__class__}'\n",
    "        classmethod = f' here is cls {MyClass.classmethod()}'\n",
    "        static_ = f' here is static {MyClass.staticmethod()}'\n",
    "        return  f'{method_},\\n {classmethod}, \\n {static_}'\n"
   ]
  },
  {
   "cell_type": "code",
   "execution_count": 88,
   "metadata": {},
   "outputs": [
    {
     "data": {
      "text/plain": [
       "I see <function MyClass.method at 0x7fc6d310f4c0> and class itself: <class '__main__.MyClass'>,\n",
       "  here is cls ('class method called', <class '__main__.MyClass'>), \n",
       "  here is static static method called"
      ]
     },
     "execution_count": 88,
     "metadata": {},
     "output_type": "execute_result"
    }
   ],
   "source": [
    "abc = MyClass()\n",
    "abc"
   ]
  },
  {
   "cell_type": "code",
   "execution_count": 67,
   "metadata": {},
   "outputs": [
    {
     "name": "stdout",
     "output_type": "stream",
     "text": [
      "I see Python and class itself: <class '__main__.MyClass'>\n"
     ]
    },
    {
     "data": {
      "text/plain": [
       "('instance method called', <__main__.MyClass at 0x7fc6d3222340>)"
      ]
     },
     "execution_count": 67,
     "metadata": {},
     "output_type": "execute_result"
    }
   ],
   "source": [
    "abc.method()"
   ]
  },
  {
   "cell_type": "code",
   "execution_count": 68,
   "metadata": {},
   "outputs": [
    {
     "name": "stdout",
     "output_type": "stream",
     "text": [
      "I see 3.8.10, OOP knowledge and class itself:<class 'type'>\n"
     ]
    },
    {
     "data": {
      "text/plain": [
       "(('class method called', __main__.MyClass),)"
      ]
     },
     "execution_count": 68,
     "metadata": {},
     "output_type": "execute_result"
    }
   ],
   "source": [
    "serr=abc.classmethod(), \n",
    "serr"
   ]
  },
  {
   "cell_type": "code",
   "execution_count": 69,
   "metadata": {},
   "outputs": [
    {
     "name": "stdout",
     "output_type": "stream",
     "text": [
      "not connected\n"
     ]
    },
    {
     "data": {
      "text/plain": [
       "'static method called'"
      ]
     },
     "execution_count": 69,
     "metadata": {},
     "output_type": "execute_result"
    }
   ],
   "source": [
    "abc.staticmethod()"
   ]
  },
  {
   "cell_type": "code",
   "execution_count": 70,
   "metadata": {},
   "outputs": [
    {
     "name": "stdout",
     "output_type": "stream",
     "text": [
      "not connected\n"
     ]
    },
    {
     "data": {
      "text/plain": [
       "'static method called'"
      ]
     },
     "execution_count": 70,
     "metadata": {},
     "output_type": "execute_result"
    }
   ],
   "source": [
    "MyClass.staticmethod()"
   ]
  },
  {
   "cell_type": "code",
   "execution_count": 71,
   "metadata": {},
   "outputs": [
    {
     "name": "stdout",
     "output_type": "stream",
     "text": [
      "I see 3.8.10, OOP knowledge and class itself:<class 'type'>\n"
     ]
    },
    {
     "data": {
      "text/plain": [
       "('class method called', __main__.MyClass)"
      ]
     },
     "execution_count": 71,
     "metadata": {},
     "output_type": "execute_result"
    }
   ],
   "source": [
    "MyClass.classmethod()"
   ]
  },
  {
   "cell_type": "code",
   "execution_count": 72,
   "metadata": {},
   "outputs": [
    {
     "ename": "TypeError",
     "evalue": "method() missing 1 required positional argument: 'self'",
     "output_type": "error",
     "traceback": [
      "\u001b[0;31m---------------------------------------------------------------------------\u001b[0m",
      "\u001b[0;31mTypeError\u001b[0m                                 Traceback (most recent call last)",
      "\u001b[1;32m/mnt/c/Documents and Settings/John Olanipekun/Documents/Machine Learning/code_test_implementations/oop_tips.ipynb Cell 11'\u001b[0m in \u001b[0;36m<cell line: 1>\u001b[0;34m()\u001b[0m\n\u001b[0;32m----> <a href='vscode-notebook-cell://wsl%2Bubuntu-20.04/mnt/c/Documents%20and%20Settings/John%20Olanipekun/Documents/Machine%20Learning/code_test_implementations/oop_tips.ipynb#ch0000010vscode-remote?line=0'>1</a>\u001b[0m MyClass\u001b[39m.\u001b[39;49mmethod()\n",
      "\u001b[0;31mTypeError\u001b[0m: method() missing 1 required positional argument: 'self'"
     ]
    }
   ],
   "source": [
    "MyClass.method()"
   ]
  },
  {
   "cell_type": "code",
   "execution_count": null,
   "metadata": {},
   "outputs": [],
   "source": []
  },
  {
   "cell_type": "markdown",
   "metadata": {},
   "source": [
    "## The pizza factory  \n",
    "- using the cls argument in the *margherita and prosciutto* factory methods instead of calling the Pizza constructor directly.  \n",
    "- If we decide to rename this class at some point we won’t have to remember updating the constructor name in all of the classmethod factory functions.  \n",
    "\n",
    "-  They all use the same __init__ constructor internally and simply provide a shortcut for remembering all of the various ingredients.  \n",
    "- Another way to look at this use of class methods is that they allow you to define alternative constructors for your classes.  \n",
    "    - Python only allows one __init__ method per class. Using class methods it’s possible to add as many alternative constructors as necessary. This can make the interface for your classes self-documenting (to a certain degree) and simplify their usage.  \n"
   ]
  },
  {
   "cell_type": "code",
   "execution_count": 93,
   "metadata": {},
   "outputs": [],
   "source": [
    "class Pizza:\n",
    "    def __init__(self, ingredients):\n",
    "        self.ingredients = ingredients\n",
    "\n",
    "    def __repr__(self):\n",
    "        return f'Pizza({self.ingredients!r})'\n",
    "\n",
    "    @classmethod\n",
    "    def margherita(cls):\n",
    "        return cls(['mozzarella', 'tomatoes'])\n",
    "\n",
    "    @classmethod\n",
    "    def prosciutto(cls):\n",
    "        return cls(['mozzarella', 'tomatoes', 'ham'])"
   ]
  },
  {
   "cell_type": "code",
   "execution_count": 91,
   "metadata": {},
   "outputs": [
    {
     "data": {
      "text/plain": [
       "Pizza(['mozzarella', 'tomatoes'])"
      ]
     },
     "execution_count": 91,
     "metadata": {},
     "output_type": "execute_result"
    }
   ],
   "source": [
    "Pizza.margherita()"
   ]
  },
  {
   "cell_type": "code",
   "execution_count": 92,
   "metadata": {},
   "outputs": [
    {
     "data": {
      "text/plain": [
       "Pizza(['mozzarella', 'tomatoes', 'ham'])"
      ]
     },
     "execution_count": 92,
     "metadata": {},
     "output_type": "execute_result"
    }
   ],
   "source": [
    "Pizza.prosciutto()"
   ]
  },
  {
   "cell_type": "markdown",
   "metadata": {},
   "source": [
    "## Static Methods  "
   ]
  },
  {
   "cell_type": "code",
   "execution_count": 107,
   "metadata": {},
   "outputs": [],
   "source": [
    "import math\n",
    "\n",
    "class Pizza:\n",
    "    def __init__(self, radius, ingredients):\n",
    "        self.radius = radius\n",
    "        self.ingredients = ingredients\n",
    "\n",
    "    def __repr__(self):\n",
    "        return (f'Pizza({self.radius!r}, '\n",
    "                f'{self.ingredients!r})')\n",
    "\n",
    "    def area(self):\n",
    "        return self.circle_area(self.radius)\n",
    "\n",
    "    @staticmethod\n",
    "    def circle_area(r):\n",
    "        return r ** 2 * math.pi"
   ]
  },
  {
   "cell_type": "code",
   "execution_count": 108,
   "metadata": {},
   "outputs": [
    {
     "data": {
      "text/plain": [
       "Pizza(4, ['mozzarella', 'tomatoes'])"
      ]
     },
     "execution_count": 108,
     "metadata": {},
     "output_type": "execute_result"
    }
   ],
   "source": [
    "p = Pizza(4, ['mozzarella', 'tomatoes'])\n",
    "p"
   ]
  },
  {
   "cell_type": "code",
   "execution_count": 109,
   "metadata": {},
   "outputs": [
    {
     "data": {
      "text/plain": [
       "50.26548245743669"
      ]
     },
     "execution_count": 109,
     "metadata": {},
     "output_type": "execute_result"
    }
   ],
   "source": [
    "p.area()"
   ]
  },
  {
   "cell_type": "code",
   "execution_count": 110,
   "metadata": {},
   "outputs": [
    {
     "data": {
      "text/plain": [
       "1809.5573684677208"
      ]
     },
     "execution_count": 110,
     "metadata": {},
     "output_type": "execute_result"
    }
   ],
   "source": [
    "Pizza.circle_area(24)"
   ]
  },
  {
   "cell_type": "code",
   "execution_count": 111,
   "metadata": {},
   "outputs": [
    {
     "data": {
      "text/plain": [
       "1809.5573684677208"
      ]
     },
     "execution_count": 111,
     "metadata": {},
     "output_type": "execute_result"
    }
   ],
   "source": [
    "p.circle_area(24)"
   ]
  },
  {
   "cell_type": "code",
   "execution_count": 152,
   "metadata": {},
   "outputs": [],
   "source": [
    "import math\n",
    "\n",
    "class Pizza:\n",
    "    def __init__(self, radius, ingredients):\n",
    "        self.radius = radius\n",
    "        self.ingredients = ingredients\n",
    "\n",
    "    def __repr__(self):\n",
    "        return (f'Pizza({self.radius!r}, '\n",
    "                f'{self.ingredients!r})')\n",
    "    \n",
    "    @classmethod\n",
    "    def area(cls):\n",
    "        radius=cls.radius = 25\n",
    "        ingredients = cls.ingredients=['mozzarella', 'tomatoes', 'ham']\n",
    "        return cls.circle_area(radius), ingredients \n",
    "\n",
    "    @staticmethod\n",
    "    def circle_area(r):\n",
    "        return r ** 2 * math.pi"
   ]
  },
  {
   "cell_type": "code",
   "execution_count": 159,
   "metadata": {},
   "outputs": [
    {
     "data": {
      "text/plain": [
       "Pizza(14, ['mozzarella', 'tomatoes'])"
      ]
     },
     "execution_count": 159,
     "metadata": {},
     "output_type": "execute_result"
    }
   ],
   "source": [
    "p = Pizza(14, ['mozzarella', 'tomatoes'])\n",
    "p"
   ]
  },
  {
   "cell_type": "code",
   "execution_count": 155,
   "metadata": {},
   "outputs": [
    {
     "data": {
      "text/plain": [
       "(1963.4954084936207, ['mozzarella', 'tomatoes', 'ham'])"
      ]
     },
     "execution_count": 155,
     "metadata": {},
     "output_type": "execute_result"
    }
   ],
   "source": [
    "p.area()"
   ]
  },
  {
   "cell_type": "code",
   "execution_count": 156,
   "metadata": {},
   "outputs": [
    {
     "data": {
      "text/plain": [
       "1809.5573684677208"
      ]
     },
     "execution_count": 156,
     "metadata": {},
     "output_type": "execute_result"
    }
   ],
   "source": [
    "Pizza.circle_area(24)"
   ]
  },
  {
   "cell_type": "code",
   "execution_count": 157,
   "metadata": {},
   "outputs": [
    {
     "data": {
      "text/plain": [
       "1809.5573684677208"
      ]
     },
     "execution_count": 157,
     "metadata": {},
     "output_type": "execute_result"
    }
   ],
   "source": [
    "p.circle_area(24)"
   ]
  },
  {
   "cell_type": "code",
   "execution_count": 158,
   "metadata": {},
   "outputs": [
    {
     "data": {
      "text/plain": [
       "(1963.4954084936207, ['mozzarella', 'tomatoes', 'ham'])"
      ]
     },
     "execution_count": 158,
     "metadata": {},
     "output_type": "execute_result"
    }
   ],
   "source": [
    "Pizza.area()"
   ]
  },
  {
   "cell_type": "code",
   "execution_count": null,
   "metadata": {},
   "outputs": [],
   "source": []
  },
  {
   "cell_type": "markdown",
   "metadata": {},
   "source": [
    "Python classes keep method names in an internal dictionary called .___dict___, which holds the class namespace. Like any Python dictionary, .__dict__ can’t have repeated keys, so you can’t have multiple methods with the same name in a given class. If you try to do so, then Python will only remember the last implementation of the method at hand:"
   ]
  },
  {
   "cell_type": "code",
   "execution_count": 161,
   "metadata": {},
   "outputs": [
    {
     "data": {
      "text/plain": [
       "mappingproxy({'__module__': '__main__',\n",
       "              '__init__': <function __main__.Pizza.__init__(self, radius, ingredients)>,\n",
       "              '__repr__': <function __main__.Pizza.__repr__(self)>,\n",
       "              'area': <classmethod at 0x7fc6d302f190>,\n",
       "              'circle_area': <staticmethod at 0x7fc6d2fc9220>,\n",
       "              '__dict__': <attribute '__dict__' of 'Pizza' objects>,\n",
       "              '__weakref__': <attribute '__weakref__' of 'Pizza' objects>,\n",
       "              '__doc__': None,\n",
       "              'radius': 25,\n",
       "              'ingredients': ['mozzarella', 'tomatoes', 'ham']})"
      ]
     },
     "execution_count": 161,
     "metadata": {},
     "output_type": "execute_result"
    }
   ],
   "source": [
    "Pizza.__dict__"
   ]
  },
  {
   "cell_type": "code",
   "execution_count": null,
   "metadata": {},
   "outputs": [],
   "source": []
  },
  {
   "cell_type": "code",
   "execution_count": 164,
   "metadata": {},
   "outputs": [],
   "source": [
    "from code_tests import PolarPoint\n",
    "# point.py\n",
    "\n",
    "import math\n",
    "\n",
    "class PolarPoint_:\n",
    "    def __init__(self, distance, angle):\n",
    "        self.distance = distance\n",
    "        self.angle = angle\n",
    "\n",
    "    @classmethod\n",
    "    def from_cartesian(cls, x, y):\n",
    "        distance = math.dist((0, 0), (x, y))\n",
    "        angle = math.degrees(math.atan2(y, x))\n",
    "        return cls(distance, angle)\n",
    "\n",
    "    def __repr__(self):\n",
    "        return (\n",
    "            f\"{self.__class__.__name__}\"\n",
    "            f\"(distance={self.distance:.1f}, angle={self.angle:.1f})\"\n",
    "        )\n"
   ]
  },
  {
   "cell_type": "code",
   "execution_count": 165,
   "metadata": {},
   "outputs": [
    {
     "data": {
      "text/plain": [
       "PolarPoint(distance=13.0, angle=22.6)"
      ]
     },
     "execution_count": 165,
     "metadata": {},
     "output_type": "execute_result"
    }
   ],
   "source": [
    "PolarPoint(13, 22.6)"
   ]
  },
  {
   "cell_type": "code",
   "execution_count": 166,
   "metadata": {},
   "outputs": [
    {
     "data": {
      "text/plain": [
       "PolarPoint(distance=13.0, angle=22.6)"
      ]
     },
     "execution_count": 166,
     "metadata": {},
     "output_type": "execute_result"
    }
   ],
   "source": [
    "##By passing the init constructor using the class method. \n",
    "PolarPoint.from_cartesian(x=12, y=5)"
   ]
  },
  {
   "cell_type": "code",
   "execution_count": null,
   "metadata": {},
   "outputs": [],
   "source": []
  },
  {
   "cell_type": "code",
   "execution_count": null,
   "metadata": {},
   "outputs": [],
   "source": []
  },
  {
   "cell_type": "code",
   "execution_count": null,
   "metadata": {},
   "outputs": [],
   "source": []
  },
  {
   "cell_type": "code",
   "execution_count": null,
   "metadata": {},
   "outputs": [],
   "source": []
  },
  {
   "cell_type": "code",
   "execution_count": null,
   "metadata": {},
   "outputs": [],
   "source": []
  }
 ],
 "metadata": {
  "kernelspec": {
   "display_name": "Python 3.8.10 ('ml_proj_venv': venv)",
   "language": "python",
   "name": "python3"
  },
  "language_info": {
   "codemirror_mode": {
    "name": "ipython",
    "version": 3
   },
   "file_extension": ".py",
   "mimetype": "text/x-python",
   "name": "python",
   "nbconvert_exporter": "python",
   "pygments_lexer": "ipython3",
   "version": "3.8.10"
  },
  "orig_nbformat": 4,
  "vscode": {
   "interpreter": {
    "hash": "ac9dcb3c12db45fce2c001c53649fd5a4182cb7dd9b5964ee54b4220dc25ed2e"
   }
  }
 },
 "nbformat": 4,
 "nbformat_minor": 2
}
