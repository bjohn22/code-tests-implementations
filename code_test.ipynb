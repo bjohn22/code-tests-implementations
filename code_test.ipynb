{
 "cells": [
  {
   "cell_type": "code",
   "execution_count": 1,
   "metadata": {},
   "outputs": [],
   "source": [
    "class Range(object):\n",
    "    def __init__(self, start=0, end=10):\n",
    "        self.counter = start\n",
    "        self.end = end\n",
    "\n",
    "    def next(self):\n",
    "        if self.counter < self.end:\n",
    "            res = self.counter\n",
    "            self.counter += 1\n",
    "            return res\n",
    "        else:\n",
    "            return None # optional"
   ]
  },
  {
   "cell_type": "code",
   "execution_count": 2,
   "metadata": {},
   "outputs": [],
   "source": [
    "class Reverse(object):\n",
    "    \"\"\"Iterator for looping over a sequence backwards.\"\"\"\n",
    "    def __init__(self, data):\n",
    "        self.data = data\n",
    "        self.index = len(data)\n",
    "\n",
    "    def __iter__(self):\n",
    "        return self\n",
    "\n",
    "    def next(self):\n",
    "        if self.index == 0:\n",
    "            raise StopIteration\n",
    "        self.index = self.index - 1\n",
    "        print(f'index is {self.index} ')\n",
    "        return self.data[self.index]"
   ]
  },
  {
   "cell_type": "code",
   "execution_count": 3,
   "metadata": {},
   "outputs": [
    {
     "name": "stdout",
     "output_type": "stream",
     "text": [
      "index is 3 \n"
     ]
    },
    {
     "data": {
      "text/plain": [
       "4"
      ]
     },
     "execution_count": 3,
     "metadata": {},
     "output_type": "execute_result"
    }
   ],
   "source": [
    "rev = Reverse([1,2,3,4])\n",
    "rev.next()\n",
    "# for x in rev.next():\n",
    "#     print (x)"
   ]
  },
  {
   "cell_type": "code",
   "execution_count": 4,
   "metadata": {},
   "outputs": [
    {
     "data": {
      "text/plain": [
       "(4, 2)"
      ]
     },
     "execution_count": 4,
     "metadata": {},
     "output_type": "execute_result"
    }
   ],
   "source": [
    "a= 5-2+1\n",
    "b=5-(2+1)\n",
    "a, b"
   ]
  },
  {
   "cell_type": "code",
   "execution_count": 5,
   "metadata": {},
   "outputs": [],
   "source": [
    "import numpy as np"
   ]
  },
  {
   "cell_type": "code",
   "execution_count": 6,
   "metadata": {},
   "outputs": [
    {
     "data": {
      "text/plain": [
       "array([ 0,  1,  2,  3, -4, -5, -6, -7,  8,  9, 10])"
      ]
     },
     "execution_count": 6,
     "metadata": {},
     "output_type": "execute_result"
    }
   ],
   "source": [
    "Z = np.arange(11)\n",
    "Z[(3 < Z) & (Z < 8)] *= -1\n",
    "Z"
   ]
  },
  {
   "cell_type": "code",
   "execution_count": 7,
   "metadata": {},
   "outputs": [
    {
     "name": "stdout",
     "output_type": "stream",
     "text": [
      "9\n"
     ]
    }
   ],
   "source": [
    "print(sum(range(5),-1))"
   ]
  },
  {
   "cell_type": "code",
   "execution_count": 8,
   "metadata": {},
   "outputs": [],
   "source": [
    "Z=range(5)"
   ]
  },
  {
   "cell_type": "code",
   "execution_count": 9,
   "metadata": {},
   "outputs": [
    {
     "data": {
      "text/plain": [
       "array([[1., 1., 1., 1., 1., 1., 1., 1., 1., 1., 1., 1.],\n",
       "       [1., 1., 1., 1., 1., 1., 1., 1., 1., 1., 1., 1.],\n",
       "       [1., 1., 1., 1., 1., 1., 1., 1., 1., 1., 1., 1.],\n",
       "       [1., 1., 1., 1., 1., 1., 1., 1., 1., 1., 1., 1.],\n",
       "       [1., 1., 1., 1., 1., 1., 1., 1., 1., 1., 1., 1.],\n",
       "       [1., 1., 1., 1., 1., 1., 1., 1., 1., 1., 1., 1.],\n",
       "       [1., 1., 1., 1., 1., 1., 1., 1., 1., 1., 1., 1.],\n",
       "       [1., 1., 1., 1., 1., 1., 1., 1., 1., 1., 1., 1.],\n",
       "       [1., 1., 1., 1., 1., 1., 1., 1., 1., 1., 1., 1.],\n",
       "       [1., 1., 1., 1., 1., 1., 1., 1., 1., 1., 1., 1.]])"
      ]
     },
     "execution_count": 9,
     "metadata": {},
     "output_type": "execute_result"
    }
   ],
   "source": [
    "X = np.ones((10,12))\n",
    "#X = 3.5\n",
    "X"
   ]
  },
  {
   "cell_type": "code",
   "execution_count": 10,
   "metadata": {},
   "outputs": [],
   "source": [
    "def generate(X):\n",
    "    for x in X:\n",
    "        #print(x)\n",
    "        yield x"
   ]
  },
  {
   "cell_type": "code",
   "execution_count": 11,
   "metadata": {},
   "outputs": [],
   "source": [
    "#Z = np.fromiter(generate(X),dtype=float)\n",
    "#print(Z)"
   ]
  },
  {
   "cell_type": "code",
   "execution_count": 12,
   "metadata": {},
   "outputs": [
    {
     "name": "stdout",
     "output_type": "stream",
     "text": [
      "[[0.   0.   0.   0.   0.  ]\n",
      " [0.25 0.25 0.25 0.25 0.25]\n",
      " [0.5  0.5  0.5  0.5  0.5 ]\n",
      " [0.75 0.75 0.75 0.75 0.75]\n",
      " [1.   1.   1.   1.   1.  ]] (5, 5)\n"
     ]
    }
   ],
   "source": [
    "Z = np.zeros((5,5), [('x',float),('y',float)])\n",
    "Z['x'], Z['y'] = np.meshgrid(np.linspace(0,1,5),np.linspace(0,1,5))\n",
    "print(Z['y'], Z.shape)"
   ]
  },
  {
   "cell_type": "code",
   "execution_count": 13,
   "metadata": {},
   "outputs": [
    {
     "data": {
      "text/plain": [
       "array([43.61371115, 59.67642833, 32.99882151, 59.7796349 , 12.98076596,\n",
       "       57.75414475, 19.89150353, 36.1136151 , 17.38320994, 22.05380491])"
      ]
     },
     "execution_count": 13,
     "metadata": {},
     "output_type": "execute_result"
    }
   ],
   "source": [
    "v = np.random.uniform(0,100,10)\n",
    "v"
   ]
  },
  {
   "cell_type": "code",
   "execution_count": 14,
   "metadata": {},
   "outputs": [
    {
     "data": {
      "text/plain": [
       "array([[[0.59203406, 0.02321212, 0.24406972],\n",
       "        [0.15448441, 0.30815937, 0.31830695]],\n",
       "\n",
       "       [[0.60630996, 0.9749189 , 0.63082174],\n",
       "        [0.68953791, 0.50794606, 0.05016541]],\n",
       "\n",
       "       [[0.75614156, 0.6345414 , 0.65271192],\n",
       "        [0.12543264, 0.98759285, 0.64028191]],\n",
       "\n",
       "       [[0.19718829, 0.4469551 , 0.17507209],\n",
       "        [0.64099656, 0.69861312, 0.31553058]],\n",
       "\n",
       "       [[0.58572665, 0.88458738, 0.19054044],\n",
       "        [0.63561133, 0.7312212 , 0.59991536]],\n",
       "\n",
       "       [[0.62983121, 0.26982091, 0.06826939],\n",
       "        [0.04267944, 0.63773289, 0.32257   ]],\n",
       "\n",
       "       [[0.78986821, 0.87993953, 0.61434521],\n",
       "        [0.05407479, 0.49319139, 0.58763804]],\n",
       "\n",
       "       [[0.67958911, 0.6089531 , 0.86478829],\n",
       "        [0.39409913, 0.56058538, 0.87037467]],\n",
       "\n",
       "       [[0.73484874, 0.70726105, 0.37551305],\n",
       "        [0.65525539, 0.5618065 , 0.85994431]],\n",
       "\n",
       "       [[0.34941864, 0.54408102, 0.20606095],\n",
       "        [0.20534081, 0.04182631, 0.00285412]]])"
      ]
     },
     "execution_count": 14,
     "metadata": {},
     "output_type": "execute_result"
    }
   ],
   "source": [
    "Z = np.random.random((10,2,3))\n",
    "Z"
   ]
  },
  {
   "cell_type": "code",
   "execution_count": 15,
   "metadata": {},
   "outputs": [
    {
     "data": {
      "text/plain": [
       "(array([[0],\n",
       "        [1],\n",
       "        [2]]),\n",
       " (3,))"
      ]
     },
     "execution_count": 15,
     "metadata": {},
     "output_type": "execute_result"
    }
   ],
   "source": [
    "A = np.arange(3).reshape(3,1)\n",
    "B =np.arange(3)\n",
    "A, B.shape"
   ]
  },
  {
   "cell_type": "code",
   "execution_count": 16,
   "metadata": {},
   "outputs": [
    {
     "name": "stdout",
     "output_type": "stream",
     "text": [
      "[0. 7. 0. 6. 5. 0. 0. 0. 0. 3.]\n"
     ]
    }
   ],
   "source": [
    "X = [1,2,3,4,5,6]\n",
    "I = [1,3,9,3,4,1]\n",
    "F = np.bincount(I,X)\n",
    "print(F)"
   ]
  },
  {
   "cell_type": "code",
   "execution_count": 17,
   "metadata": {},
   "outputs": [
    {
     "name": "stdout",
     "output_type": "stream",
     "text": [
      "[0 1 2 3 4 5 6 7 8 9] Z \n",
      "\n",
      "[ 3  6  9 12 15 18 21 24]\n"
     ]
    }
   ],
   "source": [
    "from numpy.lib.stride_tricks import sliding_window_view\n",
    "\n",
    "Z = np.arange(10)\n",
    "print(Z, 'Z \\n')\n",
    "print(sliding_window_view(Z, window_shape=3).sum(axis=-1))"
   ]
  },
  {
   "cell_type": "markdown",
   "metadata": {},
   "source": [
    "## Recursion.  \n",
    "- self referential.  \n",
    "- **A data structure is recursive if it can be deﬁned in terms of a smaller version of itself. A list is an example of a recursive data structure.** "
   ]
  },
  {
   "cell_type": "code",
   "execution_count": 18,
   "metadata": {},
   "outputs": [],
   "source": [
    "houses = [\"Eric's house\", \"Kenny's house\", \"Kyle's house\", \"Stan's house\"]"
   ]
  },
  {
   "cell_type": "code",
   "execution_count": 19,
   "metadata": {},
   "outputs": [],
   "source": [
    "\n",
    "\n",
    "# Each function call represents an elf doing his work \n",
    "def deliver_presents_recursively(houses):\n",
    "    # Worker elf doing his work\n",
    "    counter = 0\n",
    "\n",
    "    if len(houses) == 1:\n",
    "        house = houses[0]\n",
    "        print(\"Delivering presents to\", house)\n",
    "        counter+=1\n",
    "        print(f'counter {counter} 1')\n",
    "\n",
    "    # Manager elf doing his work\n",
    "    else:\n",
    "        mid = len(houses) // 2\n",
    "        first_half = houses[:mid]\n",
    "        print(f'first half {first_half}')\n",
    "        counter+=1\n",
    "        print(f'counter {counter} 2')        \n",
    "        second_half = houses[mid:]\n",
    "        print(f'2nd half {second_half}')\n",
    "        # Divides his work among two elves\n",
    "        deliver_presents_recursively(first_half)\n",
    "        print(f'counter {counter} 3')\n",
    "        deliver_presents_recursively(second_half)"
   ]
  },
  {
   "cell_type": "code",
   "execution_count": 20,
   "metadata": {},
   "outputs": [
    {
     "name": "stdout",
     "output_type": "stream",
     "text": [
      "first half [\"Eric's house\", \"Kenny's house\"]\n",
      "counter 1 2\n",
      "2nd half [\"Kyle's house\", \"Stan's house\"]\n",
      "first half [\"Eric's house\"]\n",
      "counter 1 2\n",
      "2nd half [\"Kenny's house\"]\n",
      "Delivering presents to Eric's house\n",
      "counter 1 1\n",
      "counter 1 3\n",
      "Delivering presents to Kenny's house\n",
      "counter 1 1\n",
      "counter 1 3\n",
      "first half [\"Kyle's house\"]\n",
      "counter 1 2\n",
      "2nd half [\"Stan's house\"]\n",
      "Delivering presents to Kyle's house\n",
      "counter 1 1\n",
      "counter 1 3\n",
      "Delivering presents to Stan's house\n",
      "counter 1 1\n"
     ]
    }
   ],
   "source": [
    "deliver_presents_recursively(houses)"
   ]
  },
  {
   "cell_type": "code",
   "execution_count": 21,
   "metadata": {},
   "outputs": [],
   "source": [
    "def sum_recursive(current_number, accumulated_sum):\n",
    "    # Base case\n",
    "    # Return the final state\n",
    "    if current_number == 11:\n",
    "        return accumulated_sum\n",
    "\n",
    "    # Recursive case\n",
    "    # Thread the state through the recursive call\n",
    "    else:\n",
    "       \n",
    "        final = sum_recursive(current_number + 1, accumulated_sum + current_number)\n",
    "        print(f'current and accum {current_number, accumulated_sum}')\n",
    "        return final"
   ]
  },
  {
   "cell_type": "code",
   "execution_count": 22,
   "metadata": {},
   "outputs": [
    {
     "name": "stdout",
     "output_type": "stream",
     "text": [
      "current and accum (10, 45)\n",
      "current and accum (9, 36)\n",
      "current and accum (8, 28)\n",
      "current and accum (7, 21)\n",
      "current and accum (6, 15)\n",
      "current and accum (5, 10)\n",
      "current and accum (4, 6)\n",
      "current and accum (3, 3)\n",
      "current and accum (2, 1)\n",
      "current and accum (1, 0)\n"
     ]
    },
    {
     "data": {
      "text/plain": [
       "55"
      ]
     },
     "execution_count": 22,
     "metadata": {},
     "output_type": "execute_result"
    }
   ],
   "source": [
    "sum_recursive(1, 0)"
   ]
  },
  {
   "cell_type": "code",
   "execution_count": 23,
   "metadata": {},
   "outputs": [
    {
     "data": {
      "text/plain": [
       "([0, 1, 2, 3, 4], [2, 3], ['hello'])"
      ]
     },
     "execution_count": 23,
     "metadata": {},
     "output_type": "execute_result"
    }
   ],
   "source": [
    "a = list(range(5))\n",
    "b = [2,3]\n",
    "d= ['hello']\n",
    "a, b, d"
   ]
  },
  {
   "cell_type": "code",
   "execution_count": 24,
   "metadata": {},
   "outputs": [
    {
     "data": {
      "text/plain": [
       "[0, 1, 2, 3, 4, 2, 3, 'hello']"
      ]
     },
     "execution_count": 24,
     "metadata": {},
     "output_type": "execute_result"
    }
   ],
   "source": [
    "a+b+d"
   ]
  },
  {
   "cell_type": "code",
   "execution_count": 25,
   "metadata": {},
   "outputs": [
    {
     "data": {
      "text/plain": [
       "[2, 3]"
      ]
     },
     "execution_count": 25,
     "metadata": {},
     "output_type": "execute_result"
    }
   ],
   "source": [
    "a=[b[0]] + b[1:]\n",
    "a"
   ]
  },
  {
   "cell_type": "code",
   "execution_count": 26,
   "metadata": {},
   "outputs": [],
   "source": [
    "def list_sum_recursive(input_list):\n",
    "    counter=0\n",
    "    # Base case\n",
    "    if input_list == []:\n",
    "        print(f'empty {input_list}')\n",
    "        return 0\n",
    "\n",
    "    # Recursive case\n",
    "    # Decompose the original problem into simpler instances of the same problem\n",
    "    # by making use of the fact that the input is a recursive data structure\n",
    "    # and can be deﬁned in terms of a smaller version of itself\n",
    "    \n",
    "    else:\n",
    "        counter +=1\n",
    "        head = input_list[0]\n",
    "        smaller_list = input_list[1:]\n",
    "        print(f'head {head} and smaller {smaller_list}, counter is {counter}')\n",
    "        final = head + list_sum_recursive(smaller_list)\n",
    "        print(f'final {final},  counter is {counter}')\n",
    "        return final"
   ]
  },
  {
   "cell_type": "code",
   "execution_count": 27,
   "metadata": {},
   "outputs": [
    {
     "name": "stdout",
     "output_type": "stream",
     "text": [
      "head 1 and smaller [2, 3], counter is 1\n",
      "head 2 and smaller [3], counter is 1\n",
      "head 3 and smaller [], counter is 1\n",
      "empty []\n",
      "final 3,  counter is 1\n",
      "final 5,  counter is 1\n",
      "final 6,  counter is 1\n"
     ]
    },
    {
     "data": {
      "text/plain": [
       "6"
      ]
     },
     "execution_count": 27,
     "metadata": {},
     "output_type": "execute_result"
    }
   ],
   "source": [
    "list_sum_recursive([1, 2, 3])"
   ]
  },
  {
   "cell_type": "code",
   "execution_count": 28,
   "metadata": {},
   "outputs": [],
   "source": [
    "import numpy as np\n",
    "A = np.matrix([[4,3,10], [2,1,7], [3,2,8],[12,2,3]])\n",
    "B = np.matrix([[1,2,1,3,1], [3,4,7,2,10],[2,10,1,2,3]])\n"
   ]
  },
  {
   "cell_type": "code",
   "execution_count": 29,
   "metadata": {},
   "outputs": [
    {
     "data": {
      "text/plain": [
       "array([[ 33, 120,  35,  38,  64],\n",
       "       [ 19,  78,  16,  22,  33],\n",
       "       [ 25,  94,  25,  29,  47],\n",
       "       [ 24,  62,  29,  46,  41]])"
      ]
     },
     "execution_count": 29,
     "metadata": {},
     "output_type": "execute_result"
    }
   ],
   "source": [
    "#Dot product/matrix multiplication using einsum\n",
    "C = np.einsum('il,lj->ij', A,B)\n",
    "C"
   ]
  },
  {
   "cell_type": "code",
   "execution_count": 30,
   "metadata": {},
   "outputs": [
    {
     "data": {
      "text/plain": [
       "matrix([[ 0,  1,  2],\n",
       "        [ 3,  4,  5],\n",
       "        [ 6,  7,  8],\n",
       "        [ 9, 10, 11]])"
      ]
     },
     "execution_count": 30,
     "metadata": {},
     "output_type": "execute_result"
    }
   ],
   "source": [
    "E = np.arange(12).reshape(np.shape(A))\n",
    "E1 = np.matrix(E)\n",
    "E1"
   ]
  },
  {
   "cell_type": "code",
   "execution_count": 31,
   "metadata": {},
   "outputs": [
    {
     "data": {
      "text/plain": [
       "((4, 3), (4, 3))"
      ]
     },
     "execution_count": 31,
     "metadata": {},
     "output_type": "execute_result"
    }
   ],
   "source": [
    "np.shape(A), np.shape(E1)"
   ]
  },
  {
   "cell_type": "code",
   "execution_count": 32,
   "metadata": {},
   "outputs": [
    {
     "data": {
      "text/plain": [
       "array([[  0,   3,  20],\n",
       "       [  6,   4,  35],\n",
       "       [ 18,  14,  64],\n",
       "       [108,  20,  33]])"
      ]
     },
     "execution_count": 32,
     "metadata": {},
     "output_type": "execute_result"
    }
   ],
   "source": [
    "#Element-wise Multiplication\n",
    "D=np.einsum('ij,ij->ij', A,E1)\n",
    "D"
   ]
  },
  {
   "cell_type": "code",
   "execution_count": 33,
   "metadata": {},
   "outputs": [
    {
     "data": {
      "text/plain": [
       "matrix([[  0,   3,  20],\n",
       "        [  6,   4,  35],\n",
       "        [ 18,  14,  64],\n",
       "        [108,  20,  33]])"
      ]
     },
     "execution_count": 33,
     "metadata": {},
     "output_type": "execute_result"
    }
   ],
   "source": [
    "np.multiply(A,E)"
   ]
  },
  {
   "cell_type": "code",
   "execution_count": 34,
   "metadata": {},
   "outputs": [
    {
     "data": {
      "text/plain": [
       "57"
      ]
     },
     "execution_count": 34,
     "metadata": {},
     "output_type": "execute_result"
    }
   ],
   "source": [
    "#SUM of A\n",
    "D=np.einsum('ij->', A)\n",
    "D"
   ]
  },
  {
   "cell_type": "code",
   "execution_count": 35,
   "metadata": {},
   "outputs": [
    {
     "name": "stderr",
     "output_type": "stream",
     "text": [
      "UsageError: Cell magic `%%sql` not found.\n"
     ]
    }
   ],
   "source": [
    "\n"
   ]
  },
  {
   "cell_type": "code",
   "execution_count": null,
   "metadata": {},
   "outputs": [],
   "source": []
  },
  {
   "cell_type": "code",
   "execution_count": null,
   "metadata": {},
   "outputs": [],
   "source": []
  },
  {
   "cell_type": "code",
   "execution_count": null,
   "metadata": {},
   "outputs": [],
   "source": []
  }
 ],
 "metadata": {
  "kernelspec": {
   "display_name": "Python 3.8.10 ('ml_proj_venv': venv)",
   "language": "python",
   "name": "python3"
  },
  "language_info": {
   "codemirror_mode": {
    "name": "ipython",
    "version": 3
   },
   "file_extension": ".py",
   "mimetype": "text/x-python",
   "name": "python",
   "nbconvert_exporter": "python",
   "pygments_lexer": "ipython3",
   "version": "3.8.10"
  },
  "orig_nbformat": 4,
  "vscode": {
   "interpreter": {
    "hash": "ac9dcb3c12db45fce2c001c53649fd5a4182cb7dd9b5964ee54b4220dc25ed2e"
   }
  }
 },
 "nbformat": 4,
 "nbformat_minor": 2
}
